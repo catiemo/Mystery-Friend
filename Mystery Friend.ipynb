{
 "cells": [
  {
   "cell_type": "markdown",
   "id": "1952665c",
   "metadata": {},
   "source": [
    "### Importing Libraries"
   ]
  },
  {
   "cell_type": "code",
   "execution_count": 1,
   "id": "2bd8db41",
   "metadata": {},
   "outputs": [],
   "source": [
    "from sklearn.feature_extraction.text import CountVectorizer\n",
    "from sklearn.naive_bayes import MultinomialNB\n",
    "from goldman_emma_raw import goldman_docs\n",
    "from henson_matthew_raw import henson_docs\n",
    "from wu_tingfang_raw import wu_docs"
   ]
  },
  {
   "cell_type": "markdown",
   "id": "8fb89451",
   "metadata": {},
   "source": [
    "### Setting up writing samples and labels"
   ]
  },
  {
   "cell_type": "code",
   "execution_count": 2,
   "id": "33926516",
   "metadata": {},
   "outputs": [],
   "source": [
    "# Setting up the combined list of friends' writing samples\n",
    "friends_docs = goldman_docs + henson_docs + wu_docs\n",
    "# Setting up labels for your three friends\n",
    "friends_labels = [1] * 154 + [2] * 141 + [3] * 166"
   ]
  },
  {
   "cell_type": "markdown",
   "id": "258423a1",
   "metadata": {},
   "source": [
    "### Viewing a document from each friend"
   ]
  },
  {
   "cell_type": "code",
   "execution_count": 3,
   "id": "e4bdef80",
   "metadata": {},
   "outputs": [
    {
     "name": "stdout",
     "output_type": "stream",
     "text": [
      "\n",
      "The Importance of Names\n",
      "\n",
      "  \"What's in a name?  That which we call a rose\n",
      "  By any other name would smell as sweet.\"\n",
      "\n",
      "\n",
      "Notwithstanding these lines, I maintain that the selection of names is\n",
      "important\n",
      "\n",
      "When the news of the discovery of the North Pole, by Commander Peary,\n",
      "was first sent to the world, a distinguished citizen of New York City,\n",
      "well versed in the affairs of the Peary Arctic Club, made the statement,\n",
      "that he was sure that Matt Henson had been with Commander Peary on the\n",
      "day of the discovery\n",
      "\n",
      "The history of human growth and development is at the same time the\n",
      "history of the terrible struggle of every new idea heralding the\n",
      "approach of a brighter dawn\n"
     ]
    }
   ],
   "source": [
    "# Print out a document from each friend:\n",
    "print(wu_docs[0])\n",
    "print(henson_docs[0])\n",
    "print(goldman_docs[0])"
   ]
  },
  {
   "cell_type": "markdown",
   "id": "c2bc2bd7",
   "metadata": {},
   "source": [
    "### Mystery Postcard"
   ]
  },
  {
   "cell_type": "code",
   "execution_count": 4,
   "id": "31aaf486",
   "metadata": {},
   "outputs": [],
   "source": [
    "mystery_postcard = \"\"\"\n",
    "My friend,\n",
    "From the 10th of July to the 13th, a fierce storm raged, clouds of\n",
    "freeing spray broke over the ship, incasing her in a coat of icy mail,\n",
    "and the tempest forced all of the ice out of the lower end of the\n",
    "channel and beyond as far as the eye could see, but the _Roosevelt_\n",
    "still remained surrounded by ice.\n",
    "Hope to see you soon.\n",
    "\"\"\""
   ]
  },
  {
   "cell_type": "markdown",
   "id": "0c7eefa5",
   "metadata": {},
   "source": [
    "### Create an instance of CountVetcorizer"
   ]
  },
  {
   "cell_type": "code",
   "execution_count": 5,
   "id": "22b328d5",
   "metadata": {},
   "outputs": [],
   "source": [
    "# Create bow_vectorizer:\n",
    "bow_vectorizer = CountVectorizer()"
   ]
  },
  {
   "cell_type": "markdown",
   "id": "c57216a8",
   "metadata": {},
   "source": [
    "### Vectorize Writing Samples"
   ]
  },
  {
   "cell_type": "code",
   "execution_count": 6,
   "id": "ecd2d653",
   "metadata": {},
   "outputs": [],
   "source": [
    "# Define friends_vectors:\n",
    "friends_vectors = bow_vectorizer.fit_transform(friends_docs)"
   ]
  },
  {
   "cell_type": "markdown",
   "id": "1a32c031",
   "metadata": {},
   "source": [
    "### Vectorize  Mystery Postcard"
   ]
  },
  {
   "cell_type": "code",
   "execution_count": 7,
   "id": "e8177959",
   "metadata": {},
   "outputs": [],
   "source": [
    "# Define mystery_vector: \n",
    "mystery_vector = bow_vectorizer.transform([mystery_postcard])"
   ]
  },
  {
   "cell_type": "markdown",
   "id": "cb1264b1",
   "metadata": {},
   "source": [
    "### Create an instance of Naive Bayes classifier"
   ]
  },
  {
   "cell_type": "code",
   "execution_count": 8,
   "id": "1ca9d5f3",
   "metadata": {},
   "outputs": [],
   "source": [
    "# Define friends_classifier:\n",
    "friends_classifier = MultinomialNB()"
   ]
  },
  {
   "cell_type": "markdown",
   "id": "395b8bc1",
   "metadata": {},
   "source": [
    "### Train the classifier"
   ]
  },
  {
   "cell_type": "code",
   "execution_count": 9,
   "id": "0f494b89",
   "metadata": {},
   "outputs": [
    {
     "data": {
      "text/plain": [
       "MultinomialNB()"
      ]
     },
     "execution_count": 9,
     "metadata": {},
     "output_type": "execute_result"
    }
   ],
   "source": [
    "# Train the classifier:\n",
    "friends_classifier.fit(friends_vectors, friends_labels)"
   ]
  },
  {
   "cell_type": "markdown",
   "id": "28f1d154",
   "metadata": {},
   "source": [
    "### Predict the writer of the postcard"
   ]
  },
  {
   "cell_type": "code",
   "execution_count": 10,
   "id": "603f9e86",
   "metadata": {},
   "outputs": [
    {
     "name": "stdout",
     "output_type": "stream",
     "text": [
      "2\n"
     ]
    }
   ],
   "source": [
    "# Change predictions:\n",
    "predictions = friends_classifier.predict(mystery_vector)\n",
    "print(predictions[0])"
   ]
  },
  {
   "cell_type": "code",
   "execution_count": 11,
   "id": "f6eb5b3e",
   "metadata": {},
   "outputs": [
    {
     "name": "stdout",
     "output_type": "stream",
     "text": [
      "The postcard was from 2!\n"
     ]
    }
   ],
   "source": [
    "mystery_friend = predictions[0] if predictions[0] else \"someone else\"\n",
    "# Uncomment the print statement:\n",
    "print(\"The postcard was from {}!\".format(mystery_friend))"
   ]
  },
  {
   "cell_type": "markdown",
   "id": "777282ce",
   "metadata": {},
   "source": [
    "### Predicting based on probabilities"
   ]
  },
  {
   "cell_type": "code",
   "execution_count": 15,
   "id": "2d9f6689",
   "metadata": {},
   "outputs": [
    {
     "name": "stdout",
     "output_type": "stream",
     "text": [
      "0.988977727368095\n"
     ]
    }
   ],
   "source": [
    "prediction = friends_classifier.predict_proba(mystery_vector)\n",
    "print(prediction[0].max())"
   ]
  },
  {
   "cell_type": "code",
   "execution_count": null,
   "id": "3e64756f",
   "metadata": {},
   "outputs": [],
   "source": []
  }
 ],
 "metadata": {
  "kernelspec": {
   "display_name": "Python 3",
   "language": "python",
   "name": "python3"
  },
  "language_info": {
   "codemirror_mode": {
    "name": "ipython",
    "version": 3
   },
   "file_extension": ".py",
   "mimetype": "text/x-python",
   "name": "python",
   "nbconvert_exporter": "python",
   "pygments_lexer": "ipython3",
   "version": "3.8.8"
  }
 },
 "nbformat": 4,
 "nbformat_minor": 5
}
